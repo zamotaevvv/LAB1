{
  "cells": [
    {
      "cell_type": "markdown",
      "metadata": {
        "id": "M-DGa20PaHnu"
      },
      "source": [
        "#Задача 1\n",
        "Написать функцию на вход которой подается строка, состоящая из латинских букв.\n",
        "Функция должна вернуть количество гласных букв (a, e, i, o, u) в этой строке. Написать тесты для кода"
      ]
    },
    {
      "cell_type": "code",
      "execution_count": 1,
      "metadata": {
        "id": "XvX8X_JJ6PCb"
      },
      "outputs": [
        {
          "name": "stdout",
          "output_type": "stream",
          "text": [
            "All tests passed!\n"
          ]
        }
      ],
      "source": [
        "def count_vowels(s):\n",
        "    # Задаем набор гласных букв\n",
        "    vowels = set('aeiouAEIOU')\n",
        "    # Считаем количество гласных букв в строке\n",
        "    count = sum(1 for char in s if char in vowels)\n",
        "    return count\n",
        "\n",
        "# Тесты для функции\n",
        "def test_count_vowels():\n",
        "    # Тест 1: Обычная строка\n",
        "    assert count_vowels(\"hello\") == 2, \"Test case 1 failed\"\n",
        "    \n",
        "    # Тест 2: Пустая строка\n",
        "    assert count_vowels(\"\") == 0, \"Test case 2 failed\"\n",
        "    \n",
        "    # Тест 3: Строка без гласных\n",
        "    assert count_vowels(\"rhythm\") == 0, \"Test case 3 failed\"\n",
        "    \n",
        "    # Тест 4: Строка с заглавными буквами\n",
        "    assert count_vowels(\"AEIOUaeiou\") == 10, \"Test case 4 failed\"\n",
        "    \n",
        "    # Тест 5: Смешанная строка\n",
        "    assert count_vowels(\"Hello World\") == 3, \"Test case 5 failed\"\n",
        "\n",
        "    print(\"All tests passed!\")\n",
        "\n",
        "# Запуск тестов\n",
        "test_count_vowels()\n"
      ]
    },
    {
      "cell_type": "markdown",
      "metadata": {
        "id": "t2ClV_Y0bbr6"
      },
      "source": [
        "# Задача 2\n",
        "Написать функцию на вход, которой подается строка. Функция должна вернуть true, если\n",
        "каждый символ в строке встречается только 1 раз, иначе должна вернуть false. Написать тесты для кода"
      ]
    },
    {
      "cell_type": "code",
      "execution_count": 3,
      "metadata": {
        "id": "FppbECao6VIz"
      },
      "outputs": [
        {
          "name": "stdout",
          "output_type": "stream",
          "text": [
            "All tests passed!\n"
          ]
        }
      ],
      "source": [
        "def has_unique_characters(s):\n",
        "    # Преобразуем строку в множество и сравниваем длину\n",
        "    return len(set(s)) == len(s)\n",
        "\n",
        "# Тесты для функции\n",
        "def test_has_unique_characters():\n",
        "    # Тест 1: Строка с уникальными символами\n",
        "    assert has_unique_characters(\"abcdef\") == True, \"Test case 1 failed\"\n",
        "    \n",
        "    # Тест 2: Строка с повторяющимся символом\n",
        "    assert has_unique_characters(\"abcdea\") == False, \"Test case 2 failed\"\n",
        "    \n",
        "    # Тест 3: Пустая строка (все символы уникальны)\n",
        "    assert has_unique_characters(\"\") == True, \"Test case 3 failed\"\n",
        "    \n",
        "    # Тест 4: Строка с пробелами (должна вернуть False, так как пробелы повторяются)\n",
        "    assert has_unique_characters(\"a b c\") == False, \"Test case 4 failed\"\n",
        "    \n",
        "    # Тест 5: Строка с заглавными и строчными буквами\n",
        "    assert has_unique_characters(\"AaBbCc\") == True, \"Test case 5 failed\"\n",
        "    \n",
        "    # Тест 6: Строка с символами и цифрами\n",
        "    assert has_unique_characters(\"abc123\") == True, \"Test case 6 failed\"\n",
        "    \n",
        "    # Тест 7: Строка с повторяющимися пробелами\n",
        "    assert has_unique_characters(\"abc a\") == False, \"Test case 7 failed\"\n",
        "\n",
        "    print(\"All tests passed!\")\n",
        "\n",
        "# Запуск тестов\n",
        "test_has_unique_characters()\n"
      ]
    },
    {
      "cell_type": "markdown",
      "metadata": {
        "id": "udRiIK1cdt6E"
      },
      "source": [
        "# Задача 3\n",
        "Написать функцию, которая принимает положительное число и возвращает количество\n",
        "бит равных 1 в этом числе. Написать тесты для кода"
      ]
    },
    {
      "cell_type": "code",
      "execution_count": 4,
      "metadata": {
        "id": "6tkfDJRz6dp_"
      },
      "outputs": [
        {
          "name": "stdout",
          "output_type": "stream",
          "text": [
            "All tests passed!\n"
          ]
        }
      ],
      "source": [
        "def count_bits(n):\n",
        "    # Проверка, что n является положительным числом\n",
        "    if n < 0:\n",
        "        raise ValueError(\"Input must be a positive integer\")\n",
        "    return bin(n).count('1')\n",
        "\n",
        "# Тесты для функции\n",
        "def test_count_bits():\n",
        "    # Тест 1: Число с несколькими битами, равными 1\n",
        "    assert count_bits(5) == 2, \"Test case 1 failed\"  # 5 в двоичной системе: 101\n",
        "    \n",
        "    # Тест 2: Число с одним битом, равным 1\n",
        "    assert count_bits(2) == 1, \"Test case 2 failed\"  # 2 в двоичной системе: 10\n",
        "    \n",
        "    # Тест 3: Число с нулями\n",
        "    assert count_bits(0) == 0, \"Test case 3 failed\"  # 0 в двоичной системе: 0\n",
        "    \n",
        "    # Тест 4: Положительное число с несколькими битами\n",
        "    assert count_bits(15) == 4, \"Test case 4 failed\"  # 15 в двоичной системе: 1111\n",
        "    \n",
        "    # Тест 5: Положительное число, где все биты равны 1\n",
        "    assert count_bits(255) == 8, \"Test case 5 failed\"  # 255 в двоичной системе: 11111111\n",
        "    \n",
        "    # Тест 6: Положительное число с разными битами\n",
        "    assert count_bits(29) == 4, \"Test case 6 failed\"  # 29 в двоичной системе: 11101\n",
        "    \n",
        "    print(\"All tests passed!\")\n",
        "\n",
        "# Запуск тестов\n",
        "test_count_bits()\n"
      ]
    },
    {
      "cell_type": "markdown",
      "metadata": {
        "id": "26dDUz-Ae17N"
      },
      "source": [
        "# Задача 4\n",
        "Написать функцию, которая принимает положительное число. Функция должна вернуть то,\n",
        "сколько раз необходимо перемножать цифры числа или результат перемножения, чтобы\n",
        "получилось число состоящее из одной цифры.\n",
        "Например, для входного числа:\n",
        "· 39 функция должна вернуть 3, так как 3*9=27 => 2*7=14 => 1*4=4\n",
        "· 4 функция должна вернуть 0, так как число уже состоит из одной цифры\n",
        "· 999 функция должна вернуть 4, так как 9*9*9=729 => 7*2*9=126 => 1*2*6=12 =>\n",
        "1*2=2. Написать тесты для кода"
      ]
    },
    {
      "cell_type": "code",
      "execution_count": 9,
      "metadata": {
        "id": "BH1A_Mgi6i4G"
      },
      "outputs": [
        {
          "name": "stdout",
          "output_type": "stream",
          "text": [
            "All tests passed!\n"
          ]
        }
      ],
      "source": [
        "def magic(n):\n",
        "    if n < 10:\n",
        "        return 0  # Если число уже однозначное, возвращаем 0\n",
        "\n",
        "    count = 0\n",
        "    while n >= 10:  # Пока число больше или равно 10\n",
        "        product = 1\n",
        "        while n > 0:\n",
        "            product *= n % 10  # Умножаем последнюю цифру на произведение\n",
        "            n //= 10  # Убираем последнюю цифру\n",
        "        n = product  # Обновляем n с новым произведением\n",
        "        count += 1  # Увеличиваем счетчик умножений\n",
        "    return count\n",
        "\n",
        "# Тесты для функции\n",
        "def test_magic():\n",
        "    # Тест 1: Пример с 39\n",
        "    assert magic(39) == 3, \"Test case 1 failed\"  # 3*9=27 => 2*7=14 => 1*4=4\n",
        "    \n",
        "    # Тест 2: Однозначное число 4\n",
        "    assert magic(4) == 0, \"Test case 2 failed\"  # Уже состоит из одной цифры\n",
        "    \n",
        "    # Тест 3: Пример с 999\n",
        "    assert magic(999) == 4, \"Test case 3 failed\"  # 9*9*9=729 => 7*2*9=126 => 1*2*6=12 => 1*2=2\n",
        "    \n",
        "    # Тест 4: Пример с 123\n",
        "    assert magic(123) == 1, \"Test case 4 failed\"  # 1*2*3=6 => 6 уже однозначное число\n",
        "\n",
        "    # Тест 5: Пример с 56\n",
        "    assert magic(56) == 2, \"Test case 5 failed\"  # 5*6=30 => 3*0=0\n",
        "\n",
        "    # Тест 6: Пример с 100\n",
        "    assert magic(100) == 1, \"Test case 6 failed\"  # 1*0*0=0\n",
        "\n",
        "    print(\"All tests passed!\")\n",
        "\n",
        "# Запуск тестов\n",
        "test_magic()\n"
      ]
    },
    {
      "cell_type": "markdown",
      "metadata": {
        "id": "0nS-kIa8g8vd"
      },
      "source": [
        "# Задача 5\n",
        "Написать функцию, которая принимает два целочисленных вектора одинаковой длины и\n",
        "возвращает среднеквадратическое отклонение двух векторов. Написать тесты для кода"
      ]
    },
    {
      "cell_type": "code",
      "execution_count": 11,
      "metadata": {
        "id": "8iphx4LM6xbx"
      },
      "outputs": [
        {
          "name": "stdout",
          "output_type": "stream",
          "text": [
            "All tests passed!\n"
          ]
        }
      ],
      "source": [
        "import numpy as np\n",
        "\n",
        "def mse(pred, true):\n",
        "    if len(pred) != len(true):\n",
        "        raise ValueError(\"Vectors must have the same length\")\n",
        "    \n",
        "    # Вычисляем MSE\n",
        "    error = np.square(np.subtract(pred, true))  # (pred - true)^2\n",
        "    return np.mean(error)  # Среднее значение\n",
        "\n",
        "# Тесты для функции\n",
        "def test_mse():\n",
        "    # Тест 1: Простой случай\n",
        "    pred1 = np.array([1, 2, 3])\n",
        "    true1 = np.array([1, 2, 3])\n",
        "    assert mse(pred1, true1) == 0, \"Test case 1 failed\"  # Идеальное совпадение\n",
        "\n",
        "    # Тест 2: Небольшие отличия\n",
        "    pred2 = np.array([1, 2, 3])\n",
        "    true2 = np.array([1, 3, 2])\n",
        "    assert np.isclose(mse(pred2, true2), 0.6666666666666666), \"Test case 2 failed\"  # (0 + 1 + 1) / 3 = 0.6667\n",
        "\n",
        "    # Тест 3: Все значения разные\n",
        "    pred3 = np.array([1, 2, 3, 4])\n",
        "    true3 = np.array([4, 3, 2, 1])\n",
        "    assert np.isclose(mse(pred3, true3), 5.0), \"Test case 3 failed\"  # (9 + 1 + 1 + 9) / 4 = 5\n",
        "\n",
        "    # Тест 4: Векторы с нулями\n",
        "    pred4 = np.array([0, 0, 0])\n",
        "    true4 = np.array([0, 0, 0])\n",
        "    assert mse(pred4, true4) == 0, \"Test case 4 failed\"  # Все нули\n",
        "\n",
        "    # Тест 5: Векторы разной длины (должен вызвать ошибку)\n",
        "    pred5 = np.array([1, 2])\n",
        "    true5 = np.array([1, 2, 3])\n",
        "    try:\n",
        "        mse(pred5, true5)\n",
        "        assert False, \"Test case 5 failed\"  # Ожидали ошибку\n",
        "    except ValueError:\n",
        "        pass  # Ожидаем ошибку\n",
        "\n",
        "    print(\"All tests passed!\")\n",
        "\n",
        "# Запуск тестов\n",
        "test_mse()\n"
      ]
    },
    {
      "cell_type": "markdown",
      "metadata": {
        "id": "vpIPKL439zkw"
      },
      "source": [
        "# Задача 6\n",
        "Написать функцию, принимающая целое положительное число. Функция должна вернуть\n",
        "строку вида “(n1**p1)(n2**p2)…(nk**pk)” представляющая разложение числа на простые\n",
        "множители (если pi == 1, то выводить только ni).\n",
        "Например, для числа 86240 функция должна вернуть “(2**5)(5)(7**2)(11)”. Написать тесты для кода"
      ]
    },
    {
      "cell_type": "code",
      "execution_count": 12,
      "metadata": {
        "id": "pFebmcZk94Jw"
      },
      "outputs": [
        {
          "name": "stdout",
          "output_type": "stream",
          "text": [
            "All tests passed!\n"
          ]
        }
      ],
      "source": [
        "def prime_factorization(n):\n",
        "    if n <= 0:\n",
        "        raise ValueError(\"Input must be a positive integer.\")\n",
        "    \n",
        "    factors = {}\n",
        "    divisor = 2\n",
        "    \n",
        "    # Находим простые множители\n",
        "    while n > 1:\n",
        "        while n % divisor == 0:\n",
        "            if divisor in factors:\n",
        "                factors[divisor] += 1\n",
        "            else:\n",
        "                factors[divisor] = 1\n",
        "            n //= divisor\n",
        "        divisor += 1\n",
        "\n",
        "    # Формируем строку из множителей\n",
        "    result = \"\"\n",
        "    for factor, power in factors.items():\n",
        "        if power > 1:\n",
        "            result += f\"({factor}**{power})\"\n",
        "        else:\n",
        "            result += f\"({factor})\"\n",
        "\n",
        "    return result\n",
        "\n",
        "# Тесты для функции\n",
        "def test_prime_factorization():\n",
        "    # Тест 1: Простой случай\n",
        "    assert prime_factorization(1) == \"\", \"Test case 1 failed\"  # 1 не имеет простых множителей\n",
        "\n",
        "    # Тест 2: Простое число\n",
        "    assert prime_factorization(7) == \"(7)\", \"Test case 2 failed\"  # 7 простое\n",
        "\n",
        "    # Тест 3: Простое число с показателем степени\n",
        "    assert prime_factorization(8) == \"(2**3)\", \"Test case 3 failed\"  # 2^3\n",
        "\n",
        "    # Тест 4: Сложное число\n",
        "    assert prime_factorization(86240) == \"(2**5)(5)(7**2)(11)\", \"Test case 4 failed\"  # Пример из задачи\n",
        "\n",
        "    # Тест 5: Составное число\n",
        "    assert prime_factorization(100) == \"(2**2)(5**2)\", \"Test case 5 failed\"  # 2^2 * 5^2\n",
        "\n",
        "    # Тест 6: Небольшое число\n",
        "    assert prime_factorization(30) == \"(2)(3)(5)\", \"Test case 6 failed\"  # 2 * 3 * 5\n",
        "\n",
        "    print(\"All tests passed!\")\n",
        "\n",
        "# Запуск тестов\n",
        "test_prime_factorization()\n"
      ]
    },
    {
      "cell_type": "markdown",
      "metadata": {
        "id": "ps2s0BudX7A2"
      },
      "source": [
        "# Задача 7\n",
        "Написать функцию, принимающая целое число n, задающее количество кубиков. Функция\n",
        "должна определить, можно ли из данного кол-ва кубиков построить пирамиду, то есть\n",
        "можно ли представить число n как 1^2+2^2+3^2+…+k^2. Если можно, то функция должна\n",
        "вернуть k, иначе строку “It is impossible”. Написать тесты для кода"
      ]
    },
    {
      "cell_type": "code",
      "execution_count": 33,
      "metadata": {
        "id": "3YPjEXxhX_YT"
      },
      "outputs": [
        {
          "ename": "AssertionError",
          "evalue": "Test case 3 failed",
          "output_type": "error",
          "traceback": [
            "\u001b[1;31m---------------------------------------------------------------------------\u001b[0m",
            "\u001b[1;31mAssertionError\u001b[0m                            Traceback (most recent call last)",
            "Cell \u001b[1;32mIn[33], line 33\u001b[0m\n\u001b[0;32m     30\u001b[0m     \u001b[38;5;28mprint\u001b[39m(\u001b[38;5;124m\"\u001b[39m\u001b[38;5;124mAll tests passed!\u001b[39m\u001b[38;5;124m\"\u001b[39m)\n\u001b[0;32m     32\u001b[0m \u001b[38;5;66;03m# Запуск тестов\u001b[39;00m\n\u001b[1;32m---> 33\u001b[0m \u001b[43mtest_pyramid\u001b[49m\u001b[43m(\u001b[49m\u001b[43m)\u001b[49m\n",
            "Cell \u001b[1;32mIn[33], line 23\u001b[0m, in \u001b[0;36mtest_pyramid\u001b[1;34m()\u001b[0m\n\u001b[0;32m     21\u001b[0m \u001b[38;5;28;01massert\u001b[39;00m pyramid(\u001b[38;5;241m0\u001b[39m) \u001b[38;5;241m==\u001b[39m \u001b[38;5;124m\"\u001b[39m\u001b[38;5;124mIt is impossible\u001b[39m\u001b[38;5;124m\"\u001b[39m, \u001b[38;5;124m\"\u001b[39m\u001b[38;5;124mTest case 1 failed\u001b[39m\u001b[38;5;124m\"\u001b[39m  \u001b[38;5;66;03m# 0 кубиков\u001b[39;00m\n\u001b[0;32m     22\u001b[0m \u001b[38;5;28;01massert\u001b[39;00m pyramid(\u001b[38;5;241m2\u001b[39m) \u001b[38;5;241m==\u001b[39m \u001b[38;5;124m\"\u001b[39m\u001b[38;5;124mIt is impossible\u001b[39m\u001b[38;5;124m\"\u001b[39m, \u001b[38;5;124m\"\u001b[39m\u001b[38;5;124mTest case 2 failed\u001b[39m\u001b[38;5;124m\"\u001b[39m  \u001b[38;5;66;03m# 2 кубика\u001b[39;00m\n\u001b[1;32m---> 23\u001b[0m \u001b[38;5;28;01massert\u001b[39;00m pyramid(\u001b[38;5;241m5\u001b[39m) \u001b[38;5;241m==\u001b[39m \u001b[38;5;124m\"\u001b[39m\u001b[38;5;124mIt is impossible\u001b[39m\u001b[38;5;124m\"\u001b[39m, \u001b[38;5;124m\"\u001b[39m\u001b[38;5;124mTest case 3 failed\u001b[39m\u001b[38;5;124m\"\u001b[39m  \u001b[38;5;66;03m# 5 кубиков\u001b[39;00m\n\u001b[0;32m     24\u001b[0m \u001b[38;5;28;01massert\u001b[39;00m pyramid(\u001b[38;5;241m1\u001b[39m) \u001b[38;5;241m==\u001b[39m \u001b[38;5;241m1\u001b[39m, \u001b[38;5;124m\"\u001b[39m\u001b[38;5;124mTest case 4 failed\u001b[39m\u001b[38;5;124m\"\u001b[39m  \u001b[38;5;66;03m# 1 = 1^2\u001b[39;00m\n\u001b[0;32m     25\u001b[0m \u001b[38;5;28;01massert\u001b[39;00m pyramid(\u001b[38;5;241m14\u001b[39m) \u001b[38;5;241m==\u001b[39m \u001b[38;5;241m3\u001b[39m, \u001b[38;5;124m\"\u001b[39m\u001b[38;5;124mTest case 5 failed\u001b[39m\u001b[38;5;124m\"\u001b[39m  \u001b[38;5;66;03m# 14 = 1^2 + 2^2 + 3^2\u001b[39;00m\n",
            "\u001b[1;31mAssertionError\u001b[0m: Test case 3 failed"
          ]
        }
      ],
      "source": [
        "def pyramid(n):\n",
        "    if n <= 0:\n",
        "        return \"It is impossible\"  # Если n не положительное\n",
        "\n",
        "    total_cubes = 0\n",
        "    k = 0\n",
        "\n",
        "    # Цикл для нахождения максимального k, для которого сумма квадратов <= n\n",
        "    while total_cubes < n:\n",
        "        k += 1\n",
        "        total_cubes += k ** 2  # Добавляем квадрат текущего k\n",
        "\n",
        "    # Проверяем, равна ли сумма n\n",
        "    if total_cubes == n:\n",
        "        return k  # Если сумма квадратов равна n, возвращаем k\n",
        "    else:\n",
        "        return \"It is impossible\"  # Если сумма превысила n, возвращаем сообщение\n",
        "\n",
        "# Тесты для функции\n",
        "def test_pyramid():\n",
        "    assert pyramid(0) == \"It is impossible\", \"Test case 1 failed\"  # 0 кубиков\n",
        "    assert pyramid(2) == \"It is impossible\", \"Test case 2 failed\"  # 2 кубика\n",
        "    assert pyramid(5) == \"It is impossible\", \"Test case 3 failed\"  # 5 кубиков\n",
        "    assert pyramid(1) == 1, \"Test case 4 failed\"  # 1 = 1^2\n",
        "    assert pyramid(14) == 3, \"Test case 5 failed\"  # 14 = 1^2 + 2^2 + 3^2\n",
        "    assert pyramid(30) == 4, \"Test case 6 failed\"  # 30 = 1^2 + 2^2 + 3^2 + 4^2\n",
        "    assert pyramid(55) == 5, \"Test case 7 failed\"  # 55 = 1^2 + 2^2 + 3^2 + 4^2 + 5^2\n",
        "    assert pyramid(91) == 6, \"Test case 8 failed\"  # 91 = 1^2 + 2^2 + 3^2 + 4^2 + 5^2 + 6^2\n",
        "\n",
        "    print(\"All tests passed!\")\n",
        "\n",
        "# Запуск тестов\n",
        "test_pyramid()\n"
      ]
    },
    {
      "cell_type": "markdown",
      "metadata": {
        "id": "KeKgmIdAQMEJ"
      },
      "source": [
        "# Задача 8\n",
        "Функция принимает на вход положительное число и определяет является ли оно сбалансированным, т.е. сумма цифр до средних равна сумме цифр после. Средними в случае нечетного числа цифр считать одну цифру, в случае четного - две средних. Написать тесты для кода"
      ]
    },
    {
      "cell_type": "code",
      "execution_count": 41,
      "metadata": {
        "id": "gMAAqtqlQrZt"
      },
      "outputs": [
        {
          "name": "stdout",
          "output_type": "stream",
          "text": [
            "Number: 123321, Left part: 123, Right part: 321, Left sum: 6, Right sum: 6\n",
            "Number: 123456, Left part: 123, Right part: 456, Left sum: 6, Right sum: 15\n",
            "Number: 12321, Left part: 12, Right part: 21, Left sum: 3, Right sum: 3\n",
            "Number: 5, Left part: , Right part: , Left sum: 0, Right sum: 0\n",
            "Number: 1233210, Left part: 123, Right part: 210, Left sum: 6, Right sum: 3\n",
            "Number: 1111, Left part: 11, Right part: 11, Left sum: 2, Right sum: 2\n",
            "All tests passed!\n"
          ]
        }
      ],
      "source": [
        "def is_balanced(n):\n",
        "    num_str = str(n)  # Преобразуем число в строку\n",
        "    length = len(num_str)\n",
        "\n",
        "    if length % 2 == 0:  # Четное количество цифр\n",
        "        mid = length // 2\n",
        "        left_part = num_str[:mid]  # Все до середины\n",
        "        right_part = num_str[mid:]  # Все от середины\n",
        "    else:  # Нечетное количество цифр\n",
        "        mid = length // 2\n",
        "        left_part = num_str[:mid]  # Все до средней цифры\n",
        "        right_part = num_str[mid + 1:]  # Все после средней цифры\n",
        "\n",
        "    # Суммируем цифры в каждой части\n",
        "    left_sum = sum(int(digit) for digit in left_part)\n",
        "    right_sum = sum(int(digit) for digit in right_part)\n",
        "\n",
        "    # Отладочный вывод\n",
        "    print(f\"Number: {n}, Left part: {left_part}, Right part: {right_part}, Left sum: {left_sum}, Right sum: {right_sum}\")\n",
        "    \n",
        "    return left_sum == right_sum  # Проверяем, равны ли суммы\n",
        "\n",
        "# Тесты для функции\n",
        "def test_is_balanced():\n",
        "    assert is_balanced(123321) == True, \"Test case 1 failed\"  # 1+2 = 3, 3+2 = 3\n",
        "    assert is_balanced(123456) == False, \"Test case 2 failed\"  # 1+2+3 != 4+5+6\n",
        "    assert is_balanced(12321) == True, \"Test case 3 failed\"  # 1+2 = 2 = 2\n",
        "    assert is_balanced(5) == True, \"Test case 4 failed\"  # Одноцифровое число\n",
        "    assert is_balanced(1233210) == False, \"Test case 5 failed\"  # 1+2 != 2+1\n",
        "    assert is_balanced(1111) == True, \"Test case 6 failed\"  # 1+1 = 1+1\n",
        "\n",
        "    print(\"All tests passed!\")\n",
        "\n",
        "# Запуск тестов с отладочными выводами\n",
        "test_is_balanced()\n"
      ]
    }
  ],
  "metadata": {
    "colab": {
      "provenance": []
    },
    "kernelspec": {
      "display_name": "Python 3",
      "name": "python3"
    },
    "language_info": {
      "codemirror_mode": {
        "name": "ipython",
        "version": 3
      },
      "file_extension": ".py",
      "mimetype": "text/x-python",
      "name": "python",
      "nbconvert_exporter": "python",
      "pygments_lexer": "ipython3",
      "version": "3.12.6"
    }
  },
  "nbformat": 4,
  "nbformat_minor": 0
}
